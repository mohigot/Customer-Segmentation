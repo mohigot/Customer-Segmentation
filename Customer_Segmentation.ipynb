{
  "cells": [
    {
      "cell_type": "markdown",
      "metadata": {
        "id": "view-in-github",
        "colab_type": "text"
      },
      "source": [
        "<a href=\"https://colab.research.google.com/github/mohigot/Customer-Segmentation/blob/main/Customer_Segmentation.ipynb\" target=\"_parent\"><img src=\"https://colab.research.google.com/assets/colab-badge.svg\" alt=\"Open In Colab\"/></a>"
      ]
    },
    {
      "cell_type": "code",
      "execution_count": null,
      "metadata": {
        "id": "n_F6ybjupmM8"
      },
      "outputs": [],
      "source": [
        "import pandas as pd \n",
        "from google.colab import drive \n",
        "\n",
        "drive.mount('/content/drive')\n",
        "\n",
        "path = \"/content/drive/MyDrive/task1.xlsx\"\n",
        "data = pd.read_excel(path)"
      ]
    },
    {
      "cell_type": "code",
      "execution_count": null,
      "metadata": {
        "colab": {
          "base_uri": "https://localhost:8080/",
          "height": 279
        },
        "id": "DOixulDisDiF",
        "outputId": "d8ade101-2ee0-476e-9b1b-dc20a5a03264"
      },
      "outputs": [
        {
          "output_type": "stream",
          "name": "stdout",
          "text": [
            "invoiceid                int64\n",
            "userid                   int64\n",
            "productid                int64\n",
            "date            datetime64[ns]\n",
            "amount(Rial)             int64\n",
            "dtype: object\n"
          ]
        },
        {
          "output_type": "execute_result",
          "data": {
            "text/plain": [
              "              count          mean           std       min        25%  \\\n",
              "invoiceid     306.0  3.730525e+05  4.635225e+04  303365.0  333429.25   \n",
              "userid        306.0  8.441242e+02  6.436839e+02       8.0     212.75   \n",
              "productid     306.0  4.905980e+02  1.965603e+02       5.0     436.00   \n",
              "amount(Rial)  306.0  3.243603e+06  4.907738e+06   27533.0  690000.00   \n",
              "\n",
              "                    50%         75%         max  \n",
              "invoiceid      367623.0   417218.50    462582.0  \n",
              "userid            783.0     1314.00      2040.0  \n",
              "productid         483.0      663.75       887.0  \n",
              "amount(Rial)  1790000.0  3568250.00  52740000.0  "
            ],
            "text/html": [
              "\n",
              "  <div id=\"df-e711d943-adcc-43a4-b318-1d60f339dbf4\">\n",
              "    <div class=\"colab-df-container\">\n",
              "      <div>\n",
              "<style scoped>\n",
              "    .dataframe tbody tr th:only-of-type {\n",
              "        vertical-align: middle;\n",
              "    }\n",
              "\n",
              "    .dataframe tbody tr th {\n",
              "        vertical-align: top;\n",
              "    }\n",
              "\n",
              "    .dataframe thead th {\n",
              "        text-align: right;\n",
              "    }\n",
              "</style>\n",
              "<table border=\"1\" class=\"dataframe\">\n",
              "  <thead>\n",
              "    <tr style=\"text-align: right;\">\n",
              "      <th></th>\n",
              "      <th>count</th>\n",
              "      <th>mean</th>\n",
              "      <th>std</th>\n",
              "      <th>min</th>\n",
              "      <th>25%</th>\n",
              "      <th>50%</th>\n",
              "      <th>75%</th>\n",
              "      <th>max</th>\n",
              "    </tr>\n",
              "  </thead>\n",
              "  <tbody>\n",
              "    <tr>\n",
              "      <th>invoiceid</th>\n",
              "      <td>306.0</td>\n",
              "      <td>3.730525e+05</td>\n",
              "      <td>4.635225e+04</td>\n",
              "      <td>303365.0</td>\n",
              "      <td>333429.25</td>\n",
              "      <td>367623.0</td>\n",
              "      <td>417218.50</td>\n",
              "      <td>462582.0</td>\n",
              "    </tr>\n",
              "    <tr>\n",
              "      <th>userid</th>\n",
              "      <td>306.0</td>\n",
              "      <td>8.441242e+02</td>\n",
              "      <td>6.436839e+02</td>\n",
              "      <td>8.0</td>\n",
              "      <td>212.75</td>\n",
              "      <td>783.0</td>\n",
              "      <td>1314.00</td>\n",
              "      <td>2040.0</td>\n",
              "    </tr>\n",
              "    <tr>\n",
              "      <th>productid</th>\n",
              "      <td>306.0</td>\n",
              "      <td>4.905980e+02</td>\n",
              "      <td>1.965603e+02</td>\n",
              "      <td>5.0</td>\n",
              "      <td>436.00</td>\n",
              "      <td>483.0</td>\n",
              "      <td>663.75</td>\n",
              "      <td>887.0</td>\n",
              "    </tr>\n",
              "    <tr>\n",
              "      <th>amount(Rial)</th>\n",
              "      <td>306.0</td>\n",
              "      <td>3.243603e+06</td>\n",
              "      <td>4.907738e+06</td>\n",
              "      <td>27533.0</td>\n",
              "      <td>690000.00</td>\n",
              "      <td>1790000.0</td>\n",
              "      <td>3568250.00</td>\n",
              "      <td>52740000.0</td>\n",
              "    </tr>\n",
              "  </tbody>\n",
              "</table>\n",
              "</div>\n",
              "      <button class=\"colab-df-convert\" onclick=\"convertToInteractive('df-e711d943-adcc-43a4-b318-1d60f339dbf4')\"\n",
              "              title=\"Convert this dataframe to an interactive table.\"\n",
              "              style=\"display:none;\">\n",
              "        \n",
              "  <svg xmlns=\"http://www.w3.org/2000/svg\" height=\"24px\"viewBox=\"0 0 24 24\"\n",
              "       width=\"24px\">\n",
              "    <path d=\"M0 0h24v24H0V0z\" fill=\"none\"/>\n",
              "    <path d=\"M18.56 5.44l.94 2.06.94-2.06 2.06-.94-2.06-.94-.94-2.06-.94 2.06-2.06.94zm-11 1L8.5 8.5l.94-2.06 2.06-.94-2.06-.94L8.5 2.5l-.94 2.06-2.06.94zm10 10l.94 2.06.94-2.06 2.06-.94-2.06-.94-.94-2.06-.94 2.06-2.06.94z\"/><path d=\"M17.41 7.96l-1.37-1.37c-.4-.4-.92-.59-1.43-.59-.52 0-1.04.2-1.43.59L10.3 9.45l-7.72 7.72c-.78.78-.78 2.05 0 2.83L4 21.41c.39.39.9.59 1.41.59.51 0 1.02-.2 1.41-.59l7.78-7.78 2.81-2.81c.8-.78.8-2.07 0-2.86zM5.41 20L4 18.59l7.72-7.72 1.47 1.35L5.41 20z\"/>\n",
              "  </svg>\n",
              "      </button>\n",
              "      \n",
              "  <style>\n",
              "    .colab-df-container {\n",
              "      display:flex;\n",
              "      flex-wrap:wrap;\n",
              "      gap: 12px;\n",
              "    }\n",
              "\n",
              "    .colab-df-convert {\n",
              "      background-color: #E8F0FE;\n",
              "      border: none;\n",
              "      border-radius: 50%;\n",
              "      cursor: pointer;\n",
              "      display: none;\n",
              "      fill: #1967D2;\n",
              "      height: 32px;\n",
              "      padding: 0 0 0 0;\n",
              "      width: 32px;\n",
              "    }\n",
              "\n",
              "    .colab-df-convert:hover {\n",
              "      background-color: #E2EBFA;\n",
              "      box-shadow: 0px 1px 2px rgba(60, 64, 67, 0.3), 0px 1px 3px 1px rgba(60, 64, 67, 0.15);\n",
              "      fill: #174EA6;\n",
              "    }\n",
              "\n",
              "    [theme=dark] .colab-df-convert {\n",
              "      background-color: #3B4455;\n",
              "      fill: #D2E3FC;\n",
              "    }\n",
              "\n",
              "    [theme=dark] .colab-df-convert:hover {\n",
              "      background-color: #434B5C;\n",
              "      box-shadow: 0px 1px 3px 1px rgba(0, 0, 0, 0.15);\n",
              "      filter: drop-shadow(0px 1px 2px rgba(0, 0, 0, 0.3));\n",
              "      fill: #FFFFFF;\n",
              "    }\n",
              "  </style>\n",
              "\n",
              "      <script>\n",
              "        const buttonEl =\n",
              "          document.querySelector('#df-e711d943-adcc-43a4-b318-1d60f339dbf4 button.colab-df-convert');\n",
              "        buttonEl.style.display =\n",
              "          google.colab.kernel.accessAllowed ? 'block' : 'none';\n",
              "\n",
              "        async function convertToInteractive(key) {\n",
              "          const element = document.querySelector('#df-e711d943-adcc-43a4-b318-1d60f339dbf4');\n",
              "          const dataTable =\n",
              "            await google.colab.kernel.invokeFunction('convertToInteractive',\n",
              "                                                     [key], {});\n",
              "          if (!dataTable) return;\n",
              "\n",
              "          const docLinkHtml = 'Like what you see? Visit the ' +\n",
              "            '<a target=\"_blank\" href=https://colab.research.google.com/notebooks/data_table.ipynb>data table notebook</a>'\n",
              "            + ' to learn more about interactive tables.';\n",
              "          element.innerHTML = '';\n",
              "          dataTable['output_type'] = 'display_data';\n",
              "          await google.colab.output.renderOutput(dataTable, element);\n",
              "          const docLink = document.createElement('div');\n",
              "          docLink.innerHTML = docLinkHtml;\n",
              "          element.appendChild(docLink);\n",
              "        }\n",
              "      </script>\n",
              "    </div>\n",
              "  </div>\n",
              "  "
            ]
          },
          "metadata": {},
          "execution_count": 5
        }
      ],
      "source": [
        "import numpy as np\n",
        "import scipy.stats\n",
        "import pandas as pd \n",
        "import numpy as np\n",
        "import scipy.stats\n",
        "from google.colab import drive \n",
        "from matplotlib import pyplot as plt\n",
        "import matplotlib.dates as mdates\n",
        "import seaborn as sns\n",
        "from sklearn.neighbors import DistanceMetric\n",
        "import plotly \n",
        "import plotly.express as px\n",
        "from scipy.stats import chi2_contingency\n",
        "\n",
        "\n",
        "print(data.dtypes)\n",
        "data.describe().T"
      ]
    },
    {
      "cell_type": "code",
      "execution_count": null,
      "metadata": {
        "id": "cZtHYUGEwh1m"
      },
      "outputs": [],
      "source": [
        "print(\"median:\",\"\\n\",data.median(numeric_only=True),\"\\n\")"
      ]
    },
    {
      "cell_type": "code",
      "execution_count": null,
      "metadata": {
        "id": "NqZ3VvNyzprd"
      },
      "outputs": [],
      "source": [
        "import missingno as msno\n",
        "msno.matrix(data) #checking completeness"
      ]
    },
    {
      "cell_type": "code",
      "execution_count": null,
      "metadata": {
        "id": "8Zd6AGCE0cbT"
      },
      "outputs": [],
      "source": [
        "for col in data:\n",
        "  sns.histplot(data[col] , color=\"lightblue\", kde=True, linewidth=0)\n",
        "  plt.show()  "
      ]
    },
    {
      "cell_type": "code",
      "execution_count": null,
      "metadata": {
        "id": "bI4Xd83Z4cv0"
      },
      "outputs": [],
      "source": [
        "data.hist(column='amount(Rial)');"
      ]
    },
    {
      "cell_type": "code",
      "execution_count": null,
      "metadata": {
        "id": "fXR5UqQs710y"
      },
      "outputs": [],
      "source": [
        "def detect_outlier(dt):\n",
        "    # find q1 and q3 values\n",
        "    q1, q3 = np.percentile(sorted(dt), [25, 75])\n",
        "\n",
        "    # compute IRQ\n",
        "    iqr = q3 - q1\n",
        "\n",
        "    # find lower and upper bounds\n",
        "    lower_bound = q1 - (1.5 * iqr)\n",
        "    upper_bound = q3 + (1.5 * iqr)\n",
        "\n",
        "    outliers = [x for x in dt if x <= lower_bound or x >= upper_bound]\n",
        "\n",
        "    return outliers\n",
        "\n",
        "ax = sns.boxplot(x=data['amount(Rial)'])\n",
        "print(detect_outlier(data['amount(Rial)']))"
      ]
    },
    {
      "cell_type": "code",
      "execution_count": null,
      "metadata": {
        "id": "1elxBi7SB0VG"
      },
      "outputs": [],
      "source": [
        "datalist = data.groupby([\"userid\"], as_index=False).sum().sort_values(\"amount(Rial)\", ascending=False)\n",
        "datalist"
      ]
    },
    {
      "cell_type": "code",
      "execution_count": null,
      "metadata": {
        "id": "o8cTps5-YG73"
      },
      "outputs": [],
      "source": [
        "temp = data.groupby(by=['userid', 'invoiceid'], as_index=False)['date'].count()\n",
        "nb_products_per_basket = temp.rename(columns = {'date':'Number of products'})\n",
        "nb_products_per_basket.sort_values('userid')\n",
        "temp = nb_products_per_basket.groupby('userid', as_index=False).sum()\n",
        "\n",
        "temp"
      ]
    },
    {
      "cell_type": "code",
      "execution_count": null,
      "metadata": {
        "id": "3xRQanG3kPjy"
      },
      "outputs": [],
      "source": [
        "price_range = [0, 1000000, 2000000, 3000000, 4000000, 5000000, 6000000]\n",
        "count_price = []\n",
        "for i, price in enumerate(price_range):\n",
        "    if i == 0: continue\n",
        "    val = datalist[(datalist['amount(Rial)'] < price) &\n",
        "                       (datalist['amount(Rial)'] > price_range[i-1])]['amount(Rial)'].count()\n",
        "    count_price.append(val)\n",
        "\n",
        "   \n",
        "plt.rc('font', weight='bold')\n",
        "f, ax = plt.subplots(figsize=(11, 6))\n",
        "colors = ['yellowgreen', 'gold', 'wheat', 'c', 'violet', 'royalblue','firebrick']\n",
        "labels = [ '{}-{}'.format(price_range[i-1], s) for i,s in enumerate(price_range) if i != 0]\n",
        "sizes  = count_price\n",
        "explode = [0.0 if sizes[i] < 100 else 0.0 for i in range(len(sizes))]\n",
        "ax.pie(sizes, explode = explode, labels=labels, colors = colors,\n",
        "       autopct = lambda x:'{:1.0f}%'.format(x) if x > 1 else '',\n",
        "       shadow = False, startangle=0)\n",
        "ax.axis('equal')\n",
        "f.text(0.5, 1.01, \"Purchase based on Basket Price\", ha='center', fontsize = 18);"
      ]
    },
    {
      "cell_type": "code",
      "source": [
        "purchaseDate = data.groupby(['userid'], as_index=False)\n",
        "purchaseDate = purchaseDate.agg(FirstPurachase= ('date', np.min), LastPurchase =('date', np.max))\n",
        "purchaseDate"
      ],
      "metadata": {
        "id": "Tm-9T1uURQjy"
      },
      "execution_count": null,
      "outputs": []
    },
    {
      "cell_type": "code",
      "execution_count": null,
      "metadata": {
        "id": "ZkPhkmMkwBbt"
      },
      "outputs": [],
      "source": [
        "transactions_per_user = data.groupby(['userid'], as_index=False)\n",
        "transactions_per_user = transactions_per_user['amount(Rial)'].agg(['count','min','max','mean','sum'])\n",
        "transactions_per_user"
      ]
    },
    {
      "cell_type": "code",
      "execution_count": null,
      "metadata": {
        "id": "C9ngSm57tB_9"
      },
      "outputs": [],
      "source": [
        "info = pd.merge(transactions_per_user, purchaseDate, how='inner', on = 'userid')\n",
        "info = info.rename(columns = {'count':'Frequency', 'sum':'Monetary',\n",
        "                              'min': 'minPurchase', 'max':'maxPurchase', 'mean':'meanPurchase'})\n",
        "info"
      ]
    },
    {
      "cell_type": "code",
      "source": [
        "data_log = data[['amount(Rial)']].apply(np.log, axis=1).round(3)\n",
        "sns.distplot(data_log['amount(Rial)'])"
      ],
      "metadata": {
        "id": "4w1SXIUcOLkC"
      },
      "execution_count": null,
      "outputs": []
    },
    {
      "cell_type": "markdown",
      "source": [
        "#Customer Segmentation"
      ],
      "metadata": {
        "id": "pJ8eVSe6-Ukg"
      }
    },
    {
      "cell_type": "markdown",
      "source": [
        "RFM"
      ],
      "metadata": {
        "id": "0VqBMV-vFrcN"
      }
    },
    {
      "cell_type": "code",
      "source": [
        "PurchaseInfo = info.drop([\"CustomerGroup\"],axis = 1)\n",
        "\n",
        "\n",
        "last_date = data['date'].max().date()\n",
        "\n",
        "last_purchase  = pd.DataFrame(data.groupby(by=['userid'])['date'].max())\n",
        "\n",
        "test2 = last_purchase.applymap(lambda x:(last_date - x.date()).days)\n",
        "\n",
        "PurchaseInfo.loc[:, 'Recency'] = test2.reset_index(drop = False)['date']\n",
        "\n",
        "PurchaseInfo"
      ],
      "metadata": {
        "id": "DFjuynTbAciX"
      },
      "execution_count": null,
      "outputs": []
    },
    {
      "cell_type": "code",
      "source": [
        "rfm = PurchaseInfo[['userid','Recency', 'Frequency', 'Monetary']]"
      ],
      "metadata": {
        "id": "4q06zUZjseIg"
      },
      "execution_count": null,
      "outputs": []
    },
    {
      "cell_type": "code",
      "source": [
        "quantiles = rfm.quantile(q=[0.25,0.5,0.75])\n",
        "quantiles = quantiles.to_dict()\n",
        "quantiles"
      ],
      "metadata": {
        "id": "8ThqtQuvx29v"
      },
      "execution_count": null,
      "outputs": []
    },
    {
      "cell_type": "code",
      "source": [
        "#Functions to create R, F and M segments\n",
        "\n",
        "def RScoring(x,p,d):\n",
        "    if x <= d[p][0.50]:\n",
        "        return 1\n",
        "    else:\n",
        "        return 0\n",
        "\n",
        "def FnMScoring(x,p,d):\n",
        "  if x <= d[p][0.5]:\n",
        "      return 0\n",
        "  else:\n",
        "      return 1"
      ],
      "metadata": {
        "id": "-v0z65_Htmx-"
      },
      "execution_count": null,
      "outputs": []
    },
    {
      "cell_type": "code",
      "source": [
        "#Calculate Add R, F and M segment value columns in the existing dataset to show R, F and M segment values\n",
        "\n",
        "rfm['R'] = rfm['Recency'].apply(RScoring, args=('Recency',quantiles,))\n",
        "rfm['F'] = rfm['Frequency'].apply(FnMScoring, args=('Frequency',quantiles,))\n",
        "rfm['M'] = rfm['Monetary'].apply(FnMScoring, args=('Monetary',quantiles,))\n",
        "rfm"
      ],
      "metadata": {
        "id": "8cKRHQuMynfI"
      },
      "execution_count": null,
      "outputs": []
    },
    {
      "cell_type": "code",
      "source": [
        "rfm['RFMGroup'] = rfm.R.map(str) + rfm.F.map(str) + rfm.M.map(str)\n",
        "\n",
        "def binaryToInt(gp_str):\n",
        "    return int(gp_str, 2)\n",
        "\n",
        "rfm['RFMScore'] = rfm['RFMGroup'].apply(binaryToInt)\n",
        "rfm"
      ],
      "metadata": {
        "id": "WcBklLwVzhBr"
      },
      "execution_count": null,
      "outputs": []
    },
    {
      "cell_type": "code",
      "source": [
        "#Assign Loyalty Level to each customer\n",
        "Loyalty_Level = {0 :'Uncertain', 1 : 'Spender', 2 : 'Frequent', 3 : 'Churn', 4 : 'First Time', 5 : 'Valuable', 6 : 'Shopper', 7 : 'Best'}\n",
        "rfm[\"RFM_Loyalty_Level\"] = rfm[\"RFMScore\"].map(Loyalty_Level)"
      ],
      "metadata": {
        "id": "4TtTASrd3Z9e"
      },
      "execution_count": null,
      "outputs": []
    },
    {
      "cell_type": "code",
      "source": [
        "rfm.to_excel(r'/content/drive/MyDrive/CustomerSegmentation.xlsx', index = False)"
      ],
      "metadata": {
        "id": "y0nzHxUc9nx3"
      },
      "execution_count": null,
      "outputs": []
    },
    {
      "cell_type": "markdown",
      "source": [
        "*Segmentation by mean*"
      ],
      "metadata": {
        "id": "WGV9WuEQD0WQ"
      }
    },
    {
      "cell_type": "code",
      "source": [
        "PurchaseInfo['Frequency'].mean()\n",
        "PurchaseInfo['Recency'].mean()\n",
        "PurchaseInfo['Monetary'].mean()"
      ],
      "metadata": {
        "id": "QCr5iBWuEDd_"
      },
      "execution_count": null,
      "outputs": []
    },
    {
      "cell_type": "code",
      "source": [
        "r = 150\n",
        "f = 2\n",
        "m = 8004376\n",
        "\n",
        "def flag_df(df): \n",
        "    if (df['Frequency'] >= f) and (df['Monetary'] >= m) and (df['Recency'] < r):\n",
        "        return 'Best'\n",
        "    elif (df['Frequency'] < f) and (df['Monetary'] >= m) and (df['Recency'] < r):\n",
        "        return 'Valuable'\n",
        "    elif (df['Frequency'] >= f) and (df['Monetary'] < m) and (df['Recency'] < r):\n",
        "        return 'Shopper'\n",
        "    elif (df['Frequency'] < f) and (df['Monetary'] < m) and (df['Recency'] < r):\n",
        "        return 'First Time'\n",
        "    elif (df['Frequency'] >= f) and (df['Monetary'] >= m) and (df['Recency'] >= r):\n",
        "        return 'Churn'\n",
        "    elif (df['Frequency'] >= f) and (df['Monetary'] < m) and (df['Recency'] >= r):\n",
        "        return 'Frequent'\n",
        "    elif (df['Frequency'] < f) and (df['Monetary'] >= m) and (df['Recency'] >= r):\n",
        "        return 'Spender'\n",
        "    elif (df['Frequency'] < f) and (df['Monetary'] < m) and (df['Recency'] >= r):\n",
        "        return 'Uncertain'\n",
        "    \n",
        "PurchaseInfo['CustomerType'] = PurchaseInfo.apply(flag_df, axis = 1)"
      ],
      "metadata": {
        "id": "X37TxOogDnYU"
      },
      "execution_count": null,
      "outputs": []
    },
    {
      "cell_type": "code",
      "source": [
        "rfm.to_excel(r'/content/drive/MyDrive/CustomerSegmentationByMean.xlsx', index = False)"
      ],
      "metadata": {
        "id": "QPXg2OYvDn5U"
      },
      "execution_count": null,
      "outputs": []
    },
    {
      "cell_type": "markdown",
      "source": [
        "RFM Skewness"
      ],
      "metadata": {
        "id": "20Bnw8hX-Qdi"
      }
    },
    {
      "cell_type": "code",
      "source": [
        "plt.figure(figsize=(20,5))\n",
        "\n",
        "plt.subplot(1,3,1)\n",
        "sns.distplot(rfm['Recency'])\n",
        "\n",
        "plt.subplot(1,3,2)\n",
        "sns.distplot(rfm['Frequency'])\n",
        "\n",
        "plt.subplot(1,3,3)\n",
        "sns.distplot(rfm['Monetary'])"
      ],
      "metadata": {
        "id": "DHSCh6Bc-Lt2"
      },
      "execution_count": null,
      "outputs": []
    },
    {
      "cell_type": "markdown",
      "source": [
        "kmeans"
      ],
      "metadata": {
        "id": "OcDpqXPxFmmd"
      }
    },
    {
      "cell_type": "code",
      "source": [
        "#normalize data \n",
        "\n",
        "import pandas as pd\n",
        "from sklearn import preprocessing\n",
        "\n",
        "x = rfm[['Recency','Frequency', 'Monetary']].values #returns a numpy array\n",
        "min_max_scaler = preprocessing.MinMaxScaler()\n",
        "x_scaled = min_max_scaler.fit_transform(x)\n",
        "rfm_scaled = pd.DataFrame(x_scaled)"
      ],
      "metadata": {
        "id": "tuFulW-5F3oO"
      },
      "execution_count": null,
      "outputs": []
    },
    {
      "cell_type": "code",
      "source": [
        "#wcss stands for within cluster sum of squares\n",
        "wcss={}\n",
        "\n",
        "for k in range(1,15):\n",
        "    km = KMeans(n_clusters=k, init='k-means++', max_iter=1000 , random_state=20)\n",
        "    km = km.fit(rfm_scaled)\n",
        "    wcss[k] = km.inertia_\n",
        "    \n",
        "#Plot graph for the wcss values and the number of clusters\n",
        "sns.pointplot(x=list(wcss.keys()), y=list(wcss.values()))\n",
        "plt.xlabel('Number of clusters K')\n",
        "plt.ylabel('Sum of square distances')\n",
        "plt.title('Elbow method for optimal K')\n",
        "plt.show()"
      ],
      "metadata": {
        "id": "l4xNDsPPFlQ8"
      },
      "execution_count": null,
      "outputs": []
    },
    {
      "cell_type": "code",
      "source": [
        "from sklearn.cluster import KMeans\n",
        "\n",
        "plt.figure(figsize=(7,7))\n",
        "\n",
        "##Scatter Plot Frequency Vs Recency\n",
        "Colors = [\"red\", \"green\", \"blue\", \"yellow\", \"brown\"]\n",
        "rfm['Color'] = rfm['Cluster'].map(lambda p: Colors[p])\n",
        "ax = rfm.plot(    \n",
        "    kind=\"scatter\", \n",
        "    x=\"Recency\", y=\"Frequency\",\n",
        "    figsize=(10,8),\n",
        "    c = rfm['Color'])"
      ],
      "metadata": {
        "id": "p4servnZJ6Ar"
      },
      "execution_count": null,
      "outputs": []
    },
    {
      "cell_type": "markdown",
      "source": [
        "#Customer Behavior"
      ],
      "metadata": {
        "id": "-YLDi8WyLp6R"
      }
    },
    {
      "cell_type": "markdown",
      "source": [
        "Daily Sales by Day of the Week"
      ],
      "metadata": {
        "id": "r4rXtueErBgg"
      }
    },
    {
      "cell_type": "code",
      "source": [
        "data_cp = data.copy()\n",
        "\n",
        "data_cp['weekday'] = data_cp['date'].dt.day_name()\n",
        "\n",
        "plt.figure(figsize=(8, 6))\n",
        "plt.title('Daily Sales by Day of the Week')\n",
        "sns.countplot(data_cp['weekday'])"
      ],
      "metadata": {
        "id": "kXtu8woTWpNs"
      },
      "execution_count": null,
      "outputs": []
    },
    {
      "cell_type": "code",
      "source": [
        "plt.figure(figsize=(8, 6))\n",
        "plt.title('monthly Sales')\n",
        "sns.countplot(data_cp['month'])"
      ],
      "metadata": {
        "id": "QA8ad767rEwz"
      },
      "execution_count": null,
      "outputs": []
    },
    {
      "cell_type": "code",
      "source": [
        "plt.figure(figsize=(8, 6))\n",
        "plt.title('RFM_Loyalty_Level count')\n",
        "sns.countplot(rfm['RFM_Loyalty_Level'])"
      ],
      "metadata": {
        "id": "6iu3i26t1gBM"
      },
      "execution_count": null,
      "outputs": []
    },
    {
      "cell_type": "code",
      "source": [
        "dtl = data.groupby([\"productid\"], as_index=False).sum().sort_values(\"productid\", ascending=False)\n",
        "dtl"
      ],
      "metadata": {
        "id": "rjDiEsaeDAKG"
      },
      "execution_count": null,
      "outputs": []
    },
    {
      "cell_type": "code",
      "source": [
        "x = data_cp.groupby('productid')['amount(Rial)'].sum()[:20].sort_values()\n",
        "x.plot(kind='barh')\n",
        "plt.xlabel('amount(Rial)')"
      ],
      "metadata": {
        "id": "lecxNVmIaLOM"
      },
      "execution_count": null,
      "outputs": []
    },
    {
      "cell_type": "markdown",
      "source": [
        "*apriori*"
      ],
      "metadata": {
        "id": "ZyCgTrJvWmh3"
      }
    },
    {
      "cell_type": "code",
      "source": [
        "!pip install apyori\n",
        "!pip install efficient-apriori\n",
        "\n",
        "from apyori import apriori\n",
        "#from mlxtend.frequent_patterns import apriori, association_rules\n",
        "\n",
        "data_selection = data[['productid']]\n",
        "\n",
        "records = []\n",
        "for i in range(0, 306):\n",
        "    records.append([str(data_selection.values[i,j]) for j in range(0, 1)])"
      ],
      "metadata": {
        "id": "5OWWQzyAi7ut"
      },
      "execution_count": null,
      "outputs": []
    },
    {
      "cell_type": "code",
      "source": [
        "import pandas as pd\n",
        "from mlxtend.preprocessing import TransactionEncoder\n",
        "\n",
        "te = TransactionEncoder()\n",
        "te_ary = te.fit(records).transform(records)\n",
        "df = pd.DataFrame(te_ary, columns=te.columns_)\n",
        "df"
      ],
      "metadata": {
        "id": "5pX5as9nNf31"
      },
      "execution_count": null,
      "outputs": []
    },
    {
      "cell_type": "code",
      "source": [
        "dt_user = data[['userid']].copy() \n",
        "fr_items = pd.merge(dt_user, df, left_index=True, right_index=True)\n",
        "fr_items"
      ],
      "metadata": {
        "id": "39TN1ylBQzDn"
      },
      "execution_count": null,
      "outputs": []
    },
    {
      "cell_type": "markdown",
      "source": [
        "Frequent Itemsests"
      ],
      "metadata": {
        "id": "v04En2ocTF9Y"
      }
    },
    {
      "cell_type": "code",
      "source": [
        "from mlxtend.frequent_patterns import apriori\n",
        "\n",
        "frequent_itemsets = apriori(df, min_support = 0.00005, use_colnames=True)\n",
        "\n",
        "frequent_itemsets"
      ],
      "metadata": {
        "id": "htU-pHbNTFK_"
      },
      "execution_count": null,
      "outputs": []
    }
  ],
  "metadata": {
    "colab": {
      "collapsed_sections": [],
      "name": "Customer Segmentation",
      "provenance": [],
      "mount_file_id": "1my_q3OCRwjsUAB-2Nlovd2N01l7DGPNe",
      "authorship_tag": "ABX9TyPiyuF9sMqSK8vPn/jiEKS9",
      "include_colab_link": true
    },
    "kernelspec": {
      "display_name": "Python 3",
      "name": "python3"
    },
    "language_info": {
      "name": "python"
    }
  },
  "nbformat": 4,
  "nbformat_minor": 0
}